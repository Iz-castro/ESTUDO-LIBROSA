{
  "nbformat": 4,
  "nbformat_minor": 0,
  "metadata": {
    "colab": {
      "provenance": []
    },
    "kernelspec": {
      "name": "python3",
      "display_name": "Python 3"
    },
    "language_info": {
      "name": "python"
    }
  },
  "cells": [
    {
      "cell_type": "markdown",
      "source": [
        "# **Instruções para uso do Google Drive**\n",
        "\n",
        "\n",
        "Para carregar arquivos de uma pasta específica do seu Google Drive no Google Colab, você pode montar seu Google Drive no ambiente do Colab e depois acessar os arquivos através de comandos no notebook. Aqui estão os passos para fazer isso:\n",
        "\n",
        "1. **Montar o Google Drive no Colab**:\n",
        "   - No início do seu notebook no Colab, insira o seguinte código para montar seu Google Drive:\n",
        "\n",
        "   ```python\n",
        "   from google.colab import drive\n",
        "   drive.mount('/content/drive')\n",
        "   ```\n",
        "\n",
        "   - Execute essa célula e você receberá um link para autorizar o Google Colab a acessar seu Google Drive. Siga o link, escolha sua conta do Google, e copie o código de autorização fornecido. Cole este código na caixa de texto que aparece no output da célula no Colab e pressione Enter.\n",
        "\n",
        "2. **Acessando os arquivos**:\n",
        "   - Após montar seu Google Drive, você poderá acessar arquivos diretamente através de seus caminhos. Suponha que sua pasta se chame \"MinhaPasta\" e esteja na raiz do seu Google Drive. Você pode listar os arquivos nessa pasta com o seguinte comando Python:\n",
        "\n",
        "   ```python\n",
        "   !ls \"/content/drive/My Drive/MinhaPasta\"\n",
        "   ```\n",
        "\n",
        "   - Para carregar um arquivo especificamente, basta usar o caminho completo até ele. Por exemplo, se você quer carregar um arquivo chamado \"meu_arquivo.csv\" que está dentro de \"MinhaPasta\", você pode usar uma biblioteca como `pandas` para ler o arquivo da seguinte maneira:\n",
        "\n",
        "   ```python\n",
        "   import pandas as pd\n",
        "\n",
        "   df = pd.read_csv(\"/content/drive/My Drive/MinhaPasta/meu_arquivo.csv\")\n",
        "   ```\n",
        "\n",
        "3. **Automatizando o processo para todos os arquivos em uma pasta**:\n",
        "   - Se você quiser carregar automaticamente múltiplos arquivos de uma pasta, você poderá usar um loop para iterar sobre todos os arquivos nessa pasta. Aqui está um exemplo em que carregamos todos os arquivos CSV de uma pasta:\n",
        "\n",
        "   ```python\n",
        "   import os\n",
        "   import pandas as pd\n",
        "\n",
        "   pasta = '/content/drive/My Drive/MinhaPasta/'\n",
        "\n",
        "   # Lista para guardar os dataframes\n",
        "   dataframes = []\n",
        "\n",
        "   # Loop pelos arquivos na pasta especificada\n",
        "   for arquivo in os.listdir(pasta):\n",
        "       if arquivo.endswith('.csv'):\n",
        "           caminho_completo = os.path.join(pasta, arquivo)\n",
        "           df_temp = pd.read_csv(caminho_completo)\n",
        "           dataframes.append(df_temp)\n",
        "\n",
        "   # Agora você tem todos os dataframes carregados na lista 'dataframes'\n",
        "   ```\n",
        "\n"
      ],
      "metadata": {
        "id": "-6U-SsCa99fQ"
      }
    },
    {
      "cell_type": "code",
      "source": [],
      "metadata": {
        "id": "1S675oJA-kwU"
      },
      "execution_count": null,
      "outputs": []
    }
  ]
}